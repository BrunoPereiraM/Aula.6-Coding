{
 "cells": [
  {
   "cell_type": "code",
   "execution_count": 21,
   "metadata": {},
   "outputs": [
    {
     "name": "stdout",
     "output_type": "stream",
     "text": [
      "João trouxe 50.0 kg\n",
      "Logo, não precisa pagar multa.\n"
     ]
    }
   ],
   "source": [
    "## Exercício Aula 4\n",
    "\n",
    "#50kg é o peso estabelecido\n",
    "pesoEstabelecido = 50\n",
    "#Quilo que joão trouxe\n",
    "quilo = float(input('Quilo que João trouxe: '))\n",
    "print(\"João trouxe\", quilo, 'kg')\n",
    "#Cálculo da multa\n",
    "multa = 4 * (quilo - 50)\n",
    "#Resultado\n",
    "if (quilo > 50):\n",
    "    print('Logo, deve pagar', multa, \"reais.\")\n",
    "else:\n",
    "    print('Logo, não precisa pagar multa.')"
   ]
  },
  {
   "cell_type": "code",
   "execution_count": 19,
   "metadata": {},
   "outputs": [
    {
     "name": "stdout",
     "output_type": "stream",
     "text": [
      "O valor é 15000.0 reais\n",
      "Deve pagar 15150.0 reais.\n",
      "Deve pagar de imposto 150.0 reais.\n"
     ]
    }
   ],
   "source": [
    "## Exercício 6\n",
    "\n",
    "# Taxa para carros fabricados antes de 1990\n",
    "taxaAntes1990 = 0.01\n",
    "\n",
    "# Taxa para carros fabricados de 1990 adiante\n",
    "taxaAdiante1990 = 0.015\n",
    "\n",
    "# Valor do carro\n",
    "valorCarro = float(input('Qual o valor do carro? '))\n",
    "print(\"O valor é\", valorCarro, 'reais')\n",
    "\n",
    "# Ano do carro\n",
    "anoCarro = int(input('Qual o ano do carro?'))\n",
    "\n",
    "# Cálculo do imposto\n",
    "if (anoCarro < 1990):\n",
    "    print('Deve pagar', (taxaAntes1990 * valorCarro + valorCarro), \"reais.\")\n",
    "    print('Deve pagar de imposto', taxaAntes1990 * valorCarro, \"reais.\")\n",
    "elif (anoCarro >= 1990):\n",
    "    print('Deve pagar', (taxaAdiante1990 * valorCarro) + valorCarro, \"reais.\")\n",
    "    print('Deve pagar de imposto', taxaAdiante1990 * valorCarro, \"reais.\")"
   ]
  },
  {
   "cell_type": "code",
   "execution_count": 35,
   "metadata": {},
   "outputs": [
    {
     "name": "stdout",
     "output_type": "stream",
     "text": [
      "Seu cargo é  100\n",
      "Seu salário é  10000.0\n",
      "Vai receber um aumento de 14000.0 reais.\n"
     ]
    }
   ],
   "source": [
    "## Exercício 7\n",
    "\n",
    "# Código dos cargos\n",
    "gerente = 101\n",
    "engenheiro = 102\n",
    "tecnico = 103\n",
    "\n",
    "# Cargo do funcionário\n",
    "cargoFuncionario = input('Qual o seu cargo? ')\n",
    "print(\"Seu cargo é \", cargoFuncionario)\n",
    "\n",
    "\n",
    "#  Salário do funcionário\n",
    "salarioAntigo = float(input('Digite seu salário antigo: '))\n",
    "print(\"Seu salário é \", salarioAntigo)\n",
    "\n",
    "# Novo salário do funcionário\n",
    "gerente = salarioAntigo * 0.1\n",
    "engenheiro = salarioAntigo * 0.2\n",
    "tecnico = salarioAntigo * 0.3\n",
    "\n",
    "# Cálculo do novo salário\n",
    "if (gerente == 101):\n",
    "    print('Vai receber um aumento de', (salarioAntigo * 0.1) + salarioAntigo, \"reais.\")\n",
    "elif (engenheiro == 102):\n",
    "    print('Vai receber um aumento de', (salarioAntigo * 0.2) + salarioAntigo, \"reais.\")\n",
    "elif (tecnico == 103):\n",
    "    print('Vai receber um aumento de', (salarioAntigo * 0.3) + salarioAntigo, \"reais.\")\n",
    "# Se não estiver código\n",
    "else:\n",
    "    print('Vai receber um aumento de', (salarioAntigo * 0.4) + salarioAntigo, \"reais.\")"
   ]
  }
 ],
 "metadata": {
  "kernelspec": {
   "display_name": "Python 3",
   "language": "python",
   "name": "python3"
  },
  "language_info": {
   "codemirror_mode": {
    "name": "ipython",
    "version": 3
   },
   "file_extension": ".py",
   "mimetype": "text/x-python",
   "name": "python",
   "nbconvert_exporter": "python",
   "pygments_lexer": "ipython3",
   "version": "3.10.2"
  }
 },
 "nbformat": 4,
 "nbformat_minor": 2
}
